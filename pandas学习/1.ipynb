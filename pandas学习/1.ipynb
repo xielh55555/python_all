{
 "metadata": {
  "language_info": {
   "codemirror_mode": {
    "name": "ipython",
    "version": 3
   },
   "file_extension": ".py",
   "mimetype": "text/x-python",
   "name": "python",
   "nbconvert_exporter": "python",
   "pygments_lexer": "ipython3",
   "version": "3.8.5-final"
  },
  "orig_nbformat": 2,
  "kernelspec": {
   "name": "python385jvsc74a57bd0f70e05e4d018b7e547cf422884a40044005530bebfac0196610f02a931bdf40b",
   "display_name": "Python 3.8.5 64-bit"
  },
  "metadata": {
   "interpreter": {
    "hash": "f70e05e4d018b7e547cf422884a40044005530bebfac0196610f02a931bdf40b"
   }
  }
 },
 "nbformat": 4,
 "nbformat_minor": 2,
 "cells": [
  {
   "cell_type": "code",
   "execution_count": 21,
   "metadata": {},
   "outputs": [],
   "source": [
    "import pandas as pd \n"
   ]
  },
  {
   "cell_type": "code",
   "execution_count": 22,
   "metadata": {},
   "outputs": [
    {
     "output_type": "execute_result",
     "data": {
      "text/plain": [
       "        一期系统\n",
       "0    湘A567TA\n",
       "1    湘E22N12\n",
       "2    湘A3S61D\n",
       "3    湘EJW721\n",
       "4    湘AM6375\n",
       "..       ...\n",
       "646  湘A5643E\n",
       "647  湘AFC959\n",
       "648  湘A89FH7\n",
       "649  湘A55JL2\n",
       "650  湘A22JY2\n",
       "\n",
       "[651 rows x 1 columns]"
      ],
      "text/html": "<div>\n<style scoped>\n    .dataframe tbody tr th:only-of-type {\n        vertical-align: middle;\n    }\n\n    .dataframe tbody tr th {\n        vertical-align: top;\n    }\n\n    .dataframe thead th {\n        text-align: right;\n    }\n</style>\n<table border=\"1\" class=\"dataframe\">\n  <thead>\n    <tr style=\"text-align: right;\">\n      <th></th>\n      <th>一期系统</th>\n    </tr>\n  </thead>\n  <tbody>\n    <tr>\n      <th>0</th>\n      <td>湘A567TA</td>\n    </tr>\n    <tr>\n      <th>1</th>\n      <td>湘E22N12</td>\n    </tr>\n    <tr>\n      <th>2</th>\n      <td>湘A3S61D</td>\n    </tr>\n    <tr>\n      <th>3</th>\n      <td>湘EJW721</td>\n    </tr>\n    <tr>\n      <th>4</th>\n      <td>湘AM6375</td>\n    </tr>\n    <tr>\n      <th>...</th>\n      <td>...</td>\n    </tr>\n    <tr>\n      <th>646</th>\n      <td>湘A5643E</td>\n    </tr>\n    <tr>\n      <th>647</th>\n      <td>湘AFC959</td>\n    </tr>\n    <tr>\n      <th>648</th>\n      <td>湘A89FH7</td>\n    </tr>\n    <tr>\n      <th>649</th>\n      <td>湘A55JL2</td>\n    </tr>\n    <tr>\n      <th>650</th>\n      <td>湘A22JY2</td>\n    </tr>\n  </tbody>\n</table>\n<p>651 rows × 1 columns</p>\n</div>"
     },
     "metadata": {},
     "execution_count": 22
    }
   ],
   "source": [
    "pdf1=pd.read_excel(r'C:\\Users\\谢立虎\\Desktop\\表1.xlsx')\n",
    "pdf1"
   ]
  },
  {
   "cell_type": "code",
   "execution_count": 23,
   "metadata": {},
   "outputs": [],
   "source": [
    "list1=pdf1['一期系统']\n"
   ]
  },
  {
   "cell_type": "code",
   "execution_count": 24,
   "metadata": {},
   "outputs": [
    {
     "output_type": "stream",
     "name": "stdout",
     "text": [
      "<class 'list'>\n"
     ]
    }
   ],
   "source": [
    "list1=list(list1)\n",
    "print(type(list1))\n"
   ]
  },
  {
   "cell_type": "code",
   "execution_count": 28,
   "metadata": {},
   "outputs": [
    {
     "output_type": "execute_result",
     "data": {
      "text/plain": [
       "['湘A567TA', '湘E22N12', '湘A3S61D', '湘EJW721', '湘AM6375']"
      ]
     },
     "metadata": {},
     "execution_count": 28
    }
   ],
   "source": [
    "pdf2=pd.read_excel(r'C:\\Users\\谢立虎\\Desktop\\表2.xlsx')\n",
    "list2=list(pdf2['一期客服'])\n",
    "list1[0:5]\n"
   ]
  },
  {
   "cell_type": "code",
   "execution_count": 29,
   "metadata": {},
   "outputs": [
    {
     "output_type": "execute_result",
     "data": {
      "text/plain": [
       "['湘A44Z72', '湘A551PA', '湘AP26M1', '湘AP09Y9', '湘AS68L1']"
      ]
     },
     "metadata": {},
     "execution_count": 29
    }
   ],
   "source": [
    "list2[0:5]"
   ]
  },
  {
   "cell_type": "code",
   "execution_count": 30,
   "metadata": {},
   "outputs": [],
   "source": [
    "list3=[]\n",
    "list4=[]\n",
    "list5=[]\n",
    "for i in list1:\n",
    "    if i in list2:\n",
    "        pass\n",
    "    else:\n",
    "        list3.append(i)"
   ]
  },
  {
   "cell_type": "code",
   "execution_count": 32,
   "metadata": {},
   "outputs": [
    {
     "output_type": "execute_result",
     "data": {
      "text/plain": [
       "['湘F96310', '湘AD2486', '湘A4GW13']"
      ]
     },
     "metadata": {},
     "execution_count": 32
    }
   ],
   "source": [
    "list3[0:3]"
   ]
  },
  {
   "cell_type": "code",
   "execution_count": 33,
   "metadata": {},
   "outputs": [
    {
     "output_type": "execute_result",
     "data": {
      "text/plain": [
       "0      湘F96310\n",
       "1      湘AD2486\n",
       "2      湘A4GW13\n",
       "3      临M78542\n",
       "4      湘AHL659\n",
       "        ...   \n",
       "111    湘AA2093\n",
       "112    湘AGM676\n",
       "113    湘AJA115\n",
       "114    湘AP7P73\n",
       "115    湘A5643E\n",
       "Length: 116, dtype: object"
      ]
     },
     "metadata": {},
     "execution_count": 33
    }
   ],
   "source": [
    "pdff=pd.Series(list3)\n",
    "pdff"
   ]
  },
  {
   "cell_type": "code",
   "execution_count": 35,
   "metadata": {},
   "outputs": [],
   "source": [
    "pdff.to_excel(r'C:\\Users\\谢立虎\\Desktop\\表3.xlsx')"
   ]
  },
  {
   "cell_type": "code",
   "execution_count": null,
   "metadata": {},
   "outputs": [],
   "source": []
  }
 ]
}