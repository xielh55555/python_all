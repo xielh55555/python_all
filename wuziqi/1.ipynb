{
 "metadata": {
  "language_info": {
   "codemirror_mode": {
    "name": "ipython",
    "version": 3
   },
   "file_extension": ".py",
   "mimetype": "text/x-python",
   "name": "python",
   "nbconvert_exporter": "python",
   "pygments_lexer": "ipython3",
   "version": "3.8.5-final"
  },
  "orig_nbformat": 2,
  "kernelspec": {
   "name": "python3",
   "display_name": "Python 3.8.5 64-bit",
   "metadata": {
    "interpreter": {
     "hash": "f70e05e4d018b7e547cf422884a40044005530bebfac0196610f02a931bdf40b"
    }
   }
  }
 },
 "nbformat": 4,
 "nbformat_minor": 2,
 "cells": [
  {
   "cell_type": "code",
   "execution_count": 2,
   "metadata": {},
   "outputs": [],
   "source": [
    "import pandas as pd\n",
    "import numpy as np"
   ]
  },
  {
   "cell_type": "code",
   "execution_count": 3,
   "metadata": {},
   "outputs": [
    {
     "output_type": "error",
     "ename": "TypeError",
     "evalue": "read_excel() got an unexpected keyword argument 'columns'",
     "traceback": [
      "\u001b[1;31m---------------------------------------------------------------------------\u001b[0m",
      "\u001b[1;31mTypeError\u001b[0m                                 Traceback (most recent call last)",
      "\u001b[1;32m<ipython-input-3-155bd1441a66>\u001b[0m in \u001b[0;36m<module>\u001b[1;34m\u001b[0m\n\u001b[1;32m----> 1\u001b[1;33m \u001b[0mdata\u001b[0m\u001b[1;33m=\u001b[0m\u001b[0mpd\u001b[0m\u001b[1;33m.\u001b[0m\u001b[0mread_excel\u001b[0m\u001b[1;33m(\u001b[0m\u001b[1;34mr'C:\\Users\\谢立虎\\Desktop\\数据.xlsx'\u001b[0m\u001b[1;33m,\u001b[0m\u001b[0mcolumns\u001b[0m\u001b[1;33m=\u001b[0m\u001b[0mrange\u001b[0m\u001b[1;33m(\u001b[0m\u001b[1;36m100\u001b[0m\u001b[1;33m)\u001b[0m\u001b[1;33m)\u001b[0m\u001b[1;33m\u001b[0m\u001b[1;33m\u001b[0m\u001b[0m\n\u001b[0m\u001b[0;32m      2\u001b[0m \u001b[0mdata\u001b[0m\u001b[1;33m\u001b[0m\u001b[1;33m\u001b[0m\u001b[0m\n",
      "\u001b[1;32m~\\AppData\\Local\\Programs\\Python\\Python38\\lib\\site-packages\\pandas\\util\\_decorators.py\u001b[0m in \u001b[0;36mwrapper\u001b[1;34m(*args, **kwargs)\u001b[0m\n\u001b[0;32m    297\u001b[0m                 )\n\u001b[0;32m    298\u001b[0m                 \u001b[0mwarnings\u001b[0m\u001b[1;33m.\u001b[0m\u001b[0mwarn\u001b[0m\u001b[1;33m(\u001b[0m\u001b[0mmsg\u001b[0m\u001b[1;33m,\u001b[0m \u001b[0mFutureWarning\u001b[0m\u001b[1;33m,\u001b[0m \u001b[0mstacklevel\u001b[0m\u001b[1;33m=\u001b[0m\u001b[0mstacklevel\u001b[0m\u001b[1;33m)\u001b[0m\u001b[1;33m\u001b[0m\u001b[1;33m\u001b[0m\u001b[0m\n\u001b[1;32m--> 299\u001b[1;33m             \u001b[1;32mreturn\u001b[0m \u001b[0mfunc\u001b[0m\u001b[1;33m(\u001b[0m\u001b[1;33m*\u001b[0m\u001b[0margs\u001b[0m\u001b[1;33m,\u001b[0m \u001b[1;33m**\u001b[0m\u001b[0mkwargs\u001b[0m\u001b[1;33m)\u001b[0m\u001b[1;33m\u001b[0m\u001b[1;33m\u001b[0m\u001b[0m\n\u001b[0m\u001b[0;32m    300\u001b[0m \u001b[1;33m\u001b[0m\u001b[0m\n\u001b[0;32m    301\u001b[0m         \u001b[1;32mreturn\u001b[0m \u001b[0mwrapper\u001b[0m\u001b[1;33m\u001b[0m\u001b[1;33m\u001b[0m\u001b[0m\n",
      "\u001b[1;31mTypeError\u001b[0m: read_excel() got an unexpected keyword argument 'columns'"
     ]
    }
   ],
   "source": [
    "data=pd.read_excel(r'C:\\Users\\谢立虎\\Desktop\\数据.xlsx',columns=range(100))\n",
    "data"
   ]
  },
  {
   "cell_type": "code",
   "execution_count": 74,
   "metadata": {},
   "outputs": [
    {
     "output_type": "execute_result",
     "data": {
      "text/plain": [
       "       品牌    考核分类    二级类别    业务模式          数量              金额 Unnamed: 6  \\\n",
       "203    大区  业绩归属省份  业绩归属城市  业绩归属区域        客户编码            客户名称       商品编码   \n",
       "204    华中     湖北省     武汉市     江岸区  C100004811    武汉华宏创天科技有限公司   H0018407   \n",
       "205    华中     湖北省     武汉市     洪山区  C100002879    湖北荆楚卓越科技有限公司   H0014663   \n",
       "206    华中     湖北省     武汉市     洪山区  C100002879    湖北荆楚卓越科技有限公司   H0016597   \n",
       "207    华中     湖北省     武汉市     洪山区  C100002879    湖北荆楚卓越科技有限公司   H0015717   \n",
       "...    ..     ...     ...     ...         ...             ...        ...   \n",
       "25560  华中     江西省     南昌市     西湖区  C100003175    江西奇达网络科技有限公司   H0026897   \n",
       "25561  华中     江西省     南昌市     西湖区  C100003175    江西奇达网络科技有限公司   H0026897   \n",
       "25562  华中     江西省     南昌市     西湖区  C190422114      南昌文涛科技有限公司   H0027524   \n",
       "25563  华中     湖南省     常德市     武陵区  C201222111  湖南麒麟信息工程技术有限公司   H0029894   \n",
       "25564  华中     湖南省     常德市     武陵区  C201222111  湖南麒麟信息工程技术有限公司   H0029891   \n",
       "\n",
       "                     Unnamed: 7 Unnamed: 8              Unnamed: 9  ...  \\\n",
       "203                        辅助型号         系列                    规格型号  ...   \n",
       "204                      86V40M        NaN                  86V40M  ...   \n",
       "205       Vostro 15-5590-R1725S      V5590   Vostro 15-5590-R1725S  ...   \n",
       "206          Ins 13-5391-R1305S      I5391      Ins 13-5391-R1305S  ...   \n",
       "207          Ins 14-5493-R1525S      I5493      Ins 14-5493-R1525S  ...   \n",
       "...                         ...        ...                     ...  ...   \n",
       "25560           90NB0LZ2-M26450          无  V5000DA3500-0C4SXQJX10  ...   \n",
       "25561           90NB0LZ2-M26450          无  V5000DA3500-0C4SXQJX10  ...   \n",
       "25562  11EBA0GQCD-B0008733-001B        E77     11EBA0GQCD-B0008733  ...   \n",
       "25563              LXSS201224 1        NaN  GV-N2080TGAMINGOC-11GC  ...   \n",
       "25564                 XHN200233        NaN                X620 G30  ...   \n",
       "\n",
       "      Unnamed: 55 Unnamed: 56 Unnamed: 57 Unnamed: 58 Unnamed: 59 Unnamed: 60  \\\n",
       "203            运费        销售月份        经营方式      考核分类归属     KAB客户信息      重量(KG)   \n",
       "204             0           4          线上          商显         NaN         NaN   \n",
       "205             0           3          线上  DELL_商台机\\n         NaN         2.6   \n",
       "206             0           3          线上     DELL_家用         NaN           2   \n",
       "207             0           3          线上     DELL_家用         NaN         2.5   \n",
       "...           ...         ...         ...         ...         ...         ...   \n",
       "25560           0           1       分销,线上     ASUS_FD         NaN         2.5   \n",
       "25561           0           1       分销,线上     ASUS_FD         NaN         2.5   \n",
       "25562           0          12         NaN    THINK_台机         NaN         NaN   \n",
       "25563           0          12         NaN          信创   XHN200233         NaN   \n",
       "25564           0          12         NaN          信创   XHN200233         NaN   \n",
       "\n",
       "      Unnamed: 61 Unnamed: 62 Unnamed: 63 Unnamed: 64  \n",
       "203            体积        配送类型      SEC客户码       分销商编码  \n",
       "204           NaN        标准物流         NaN         NaN  \n",
       "205      0.013600        标准物流         NaN         NaN  \n",
       "206      0.009435        标准物流         NaN         NaN  \n",
       "207      0.011232        标准物流         NaN         NaN  \n",
       "...           ...         ...         ...         ...  \n",
       "25560    0.008133        标准物流         NaN         NaN  \n",
       "25561    0.008133        标准物流         NaN         NaN  \n",
       "25562         NaN        标准物流         NaN         NaN  \n",
       "25563         NaN        标准物流         NaN         NaN  \n",
       "25564         NaN        标准物流         NaN         NaN  \n",
       "\n",
       "[25362 rows x 65 columns]"
      ],
      "text/html": "<div>\n<style scoped>\n    .dataframe tbody tr th:only-of-type {\n        vertical-align: middle;\n    }\n\n    .dataframe tbody tr th {\n        vertical-align: top;\n    }\n\n    .dataframe thead th {\n        text-align: right;\n    }\n</style>\n<table border=\"1\" class=\"dataframe\">\n  <thead>\n    <tr style=\"text-align: right;\">\n      <th></th>\n      <th>品牌</th>\n      <th>考核分类</th>\n      <th>二级类别</th>\n      <th>业务模式</th>\n      <th>数量</th>\n      <th>金额</th>\n      <th>Unnamed: 6</th>\n      <th>Unnamed: 7</th>\n      <th>Unnamed: 8</th>\n      <th>Unnamed: 9</th>\n      <th>...</th>\n      <th>Unnamed: 55</th>\n      <th>Unnamed: 56</th>\n      <th>Unnamed: 57</th>\n      <th>Unnamed: 58</th>\n      <th>Unnamed: 59</th>\n      <th>Unnamed: 60</th>\n      <th>Unnamed: 61</th>\n      <th>Unnamed: 62</th>\n      <th>Unnamed: 63</th>\n      <th>Unnamed: 64</th>\n    </tr>\n  </thead>\n  <tbody>\n    <tr>\n      <th>203</th>\n      <td>大区</td>\n      <td>业绩归属省份</td>\n      <td>业绩归属城市</td>\n      <td>业绩归属区域</td>\n      <td>客户编码</td>\n      <td>客户名称</td>\n      <td>商品编码</td>\n      <td>辅助型号</td>\n      <td>系列</td>\n      <td>规格型号</td>\n      <td>...</td>\n      <td>运费</td>\n      <td>销售月份</td>\n      <td>经营方式</td>\n      <td>考核分类归属</td>\n      <td>KAB客户信息</td>\n      <td>重量(KG)</td>\n      <td>体积</td>\n      <td>配送类型</td>\n      <td>SEC客户码</td>\n      <td>分销商编码</td>\n    </tr>\n    <tr>\n      <th>204</th>\n      <td>华中</td>\n      <td>湖北省</td>\n      <td>武汉市</td>\n      <td>江岸区</td>\n      <td>C100004811</td>\n      <td>武汉华宏创天科技有限公司</td>\n      <td>H0018407</td>\n      <td>86V40M</td>\n      <td>NaN</td>\n      <td>86V40M</td>\n      <td>...</td>\n      <td>0</td>\n      <td>4</td>\n      <td>线上</td>\n      <td>商显</td>\n      <td>NaN</td>\n      <td>NaN</td>\n      <td>NaN</td>\n      <td>标准物流</td>\n      <td>NaN</td>\n      <td>NaN</td>\n    </tr>\n    <tr>\n      <th>205</th>\n      <td>华中</td>\n      <td>湖北省</td>\n      <td>武汉市</td>\n      <td>洪山区</td>\n      <td>C100002879</td>\n      <td>湖北荆楚卓越科技有限公司</td>\n      <td>H0014663</td>\n      <td>Vostro 15-5590-R1725S</td>\n      <td>V5590</td>\n      <td>Vostro 15-5590-R1725S</td>\n      <td>...</td>\n      <td>0</td>\n      <td>3</td>\n      <td>线上</td>\n      <td>DELL_商台机\\n</td>\n      <td>NaN</td>\n      <td>2.6</td>\n      <td>0.013600</td>\n      <td>标准物流</td>\n      <td>NaN</td>\n      <td>NaN</td>\n    </tr>\n    <tr>\n      <th>206</th>\n      <td>华中</td>\n      <td>湖北省</td>\n      <td>武汉市</td>\n      <td>洪山区</td>\n      <td>C100002879</td>\n      <td>湖北荆楚卓越科技有限公司</td>\n      <td>H0016597</td>\n      <td>Ins 13-5391-R1305S</td>\n      <td>I5391</td>\n      <td>Ins 13-5391-R1305S</td>\n      <td>...</td>\n      <td>0</td>\n      <td>3</td>\n      <td>线上</td>\n      <td>DELL_家用</td>\n      <td>NaN</td>\n      <td>2</td>\n      <td>0.009435</td>\n      <td>标准物流</td>\n      <td>NaN</td>\n      <td>NaN</td>\n    </tr>\n    <tr>\n      <th>207</th>\n      <td>华中</td>\n      <td>湖北省</td>\n      <td>武汉市</td>\n      <td>洪山区</td>\n      <td>C100002879</td>\n      <td>湖北荆楚卓越科技有限公司</td>\n      <td>H0015717</td>\n      <td>Ins 14-5493-R1525S</td>\n      <td>I5493</td>\n      <td>Ins 14-5493-R1525S</td>\n      <td>...</td>\n      <td>0</td>\n      <td>3</td>\n      <td>线上</td>\n      <td>DELL_家用</td>\n      <td>NaN</td>\n      <td>2.5</td>\n      <td>0.011232</td>\n      <td>标准物流</td>\n      <td>NaN</td>\n      <td>NaN</td>\n    </tr>\n    <tr>\n      <th>...</th>\n      <td>...</td>\n      <td>...</td>\n      <td>...</td>\n      <td>...</td>\n      <td>...</td>\n      <td>...</td>\n      <td>...</td>\n      <td>...</td>\n      <td>...</td>\n      <td>...</td>\n      <td>...</td>\n      <td>...</td>\n      <td>...</td>\n      <td>...</td>\n      <td>...</td>\n      <td>...</td>\n      <td>...</td>\n      <td>...</td>\n      <td>...</td>\n      <td>...</td>\n      <td>...</td>\n    </tr>\n    <tr>\n      <th>25560</th>\n      <td>华中</td>\n      <td>江西省</td>\n      <td>南昌市</td>\n      <td>西湖区</td>\n      <td>C100003175</td>\n      <td>江西奇达网络科技有限公司</td>\n      <td>H0026897</td>\n      <td>90NB0LZ2-M26450</td>\n      <td>无</td>\n      <td>V5000DA3500-0C4SXQJX10</td>\n      <td>...</td>\n      <td>0</td>\n      <td>1</td>\n      <td>分销,线上</td>\n      <td>ASUS_FD</td>\n      <td>NaN</td>\n      <td>2.5</td>\n      <td>0.008133</td>\n      <td>标准物流</td>\n      <td>NaN</td>\n      <td>NaN</td>\n    </tr>\n    <tr>\n      <th>25561</th>\n      <td>华中</td>\n      <td>江西省</td>\n      <td>南昌市</td>\n      <td>西湖区</td>\n      <td>C100003175</td>\n      <td>江西奇达网络科技有限公司</td>\n      <td>H0026897</td>\n      <td>90NB0LZ2-M26450</td>\n      <td>无</td>\n      <td>V5000DA3500-0C4SXQJX10</td>\n      <td>...</td>\n      <td>0</td>\n      <td>1</td>\n      <td>分销,线上</td>\n      <td>ASUS_FD</td>\n      <td>NaN</td>\n      <td>2.5</td>\n      <td>0.008133</td>\n      <td>标准物流</td>\n      <td>NaN</td>\n      <td>NaN</td>\n    </tr>\n    <tr>\n      <th>25562</th>\n      <td>华中</td>\n      <td>江西省</td>\n      <td>南昌市</td>\n      <td>西湖区</td>\n      <td>C190422114</td>\n      <td>南昌文涛科技有限公司</td>\n      <td>H0027524</td>\n      <td>11EBA0GQCD-B0008733-001B</td>\n      <td>E77</td>\n      <td>11EBA0GQCD-B0008733</td>\n      <td>...</td>\n      <td>0</td>\n      <td>12</td>\n      <td>NaN</td>\n      <td>THINK_台机</td>\n      <td>NaN</td>\n      <td>NaN</td>\n      <td>NaN</td>\n      <td>标准物流</td>\n      <td>NaN</td>\n      <td>NaN</td>\n    </tr>\n    <tr>\n      <th>25563</th>\n      <td>华中</td>\n      <td>湖南省</td>\n      <td>常德市</td>\n      <td>武陵区</td>\n      <td>C201222111</td>\n      <td>湖南麒麟信息工程技术有限公司</td>\n      <td>H0029894</td>\n      <td>LXSS201224 1</td>\n      <td>NaN</td>\n      <td>GV-N2080TGAMINGOC-11GC</td>\n      <td>...</td>\n      <td>0</td>\n      <td>12</td>\n      <td>NaN</td>\n      <td>信创</td>\n      <td>XHN200233</td>\n      <td>NaN</td>\n      <td>NaN</td>\n      <td>标准物流</td>\n      <td>NaN</td>\n      <td>NaN</td>\n    </tr>\n    <tr>\n      <th>25564</th>\n      <td>华中</td>\n      <td>湖南省</td>\n      <td>常德市</td>\n      <td>武陵区</td>\n      <td>C201222111</td>\n      <td>湖南麒麟信息工程技术有限公司</td>\n      <td>H0029891</td>\n      <td>XHN200233</td>\n      <td>NaN</td>\n      <td>X620 G30</td>\n      <td>...</td>\n      <td>0</td>\n      <td>12</td>\n      <td>NaN</td>\n      <td>信创</td>\n      <td>XHN200233</td>\n      <td>NaN</td>\n      <td>NaN</td>\n      <td>标准物流</td>\n      <td>NaN</td>\n      <td>NaN</td>\n    </tr>\n  </tbody>\n</table>\n<p>25362 rows × 65 columns</p>\n</div>"
     },
     "metadata": {},
     "execution_count": 74
    }
   ],
   "source": [
    "\n",
    "d1=data.dropna(subset=['Unnamed: 6'])\n",
    "d1"
   ]
  },
  {
   "cell_type": "code",
   "execution_count": 56,
   "metadata": {},
   "outputs": [
    {
     "output_type": "stream",
     "name": "stdout",
     "text": [
      "nan\n"
     ]
    }
   ],
   "source": []
  },
  {
   "cell_type": "code",
   "execution_count": 57,
   "metadata": {},
   "outputs": [
    {
     "output_type": "stream",
     "name": "stdout",
     "text": [
      "25565\n"
     ]
    }
   ],
   "source": []
  },
  {
   "cell_type": "code",
   "execution_count": null,
   "metadata": {},
   "outputs": [],
   "source": []
  }
 ]
}